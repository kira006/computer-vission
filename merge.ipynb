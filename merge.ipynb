{
 "cells": [
  {
   "cell_type": "code",
   "execution_count": 1,
   "id": "3ba18c5a",
   "metadata": {},
   "outputs": [],
   "source": [
    "import cv2\n",
    "import numpy"
   ]
  },
  {
   "cell_type": "code",
   "execution_count": 2,
   "id": "4ee3f485",
   "metadata": {},
   "outputs": [],
   "source": [
    "photo1=cv2.imread(\"nike1.png\")"
   ]
  },
  {
   "cell_type": "code",
   "execution_count": 3,
   "id": "41796c9e",
   "metadata": {},
   "outputs": [],
   "source": [
    "photo2=cv2.imread(\"nike2.png\")"
   ]
  },
  {
   "cell_type": "code",
   "execution_count": 4,
   "id": "4ab9f8df",
   "metadata": {},
   "outputs": [
    {
     "data": {
      "text/plain": [
       "(400, 400, 3)"
      ]
     },
     "execution_count": 4,
     "metadata": {},
     "output_type": "execute_result"
    }
   ],
   "source": [
    "photo1.shape"
   ]
  },
  {
   "cell_type": "code",
   "execution_count": 5,
   "id": "02286298",
   "metadata": {},
   "outputs": [
    {
     "data": {
      "text/plain": [
       "(400, 400, 3)"
      ]
     },
     "execution_count": 5,
     "metadata": {},
     "output_type": "execute_result"
    }
   ],
   "source": [
    "photo2.shape"
   ]
  },
  {
   "cell_type": "code",
   "execution_count": 6,
   "id": "e38000e7",
   "metadata": {},
   "outputs": [],
   "source": [
    "cv2.imshow(\"...\",photo1)\n",
    "cv2.waitKey()\n",
    "cv2.destroyAllWindows()"
   ]
  },
  {
   "cell_type": "code",
   "execution_count": 7,
   "id": "a87f658b",
   "metadata": {},
   "outputs": [],
   "source": [
    "cv2.imshow(\"...\",photo2)\n",
    "cv2.waitKey()\n",
    "cv2.destroyAllWindows()"
   ]
  },
  {
   "cell_type": "code",
   "execution_count": 8,
   "id": "083dc18b",
   "metadata": {},
   "outputs": [],
   "source": [
    "photo=numpy.hstack((photo1,photo2))"
   ]
  },
  {
   "cell_type": "code",
   "execution_count": 9,
   "id": "3a135d05",
   "metadata": {},
   "outputs": [],
   "source": [
    "cv2.imshow(\"...\",photo)\n",
    "cv2.waitKey()\n",
    "cv2.destroyAllWindows()"
   ]
  },
  {
   "cell_type": "code",
   "execution_count": null,
   "id": "0bbf8064",
   "metadata": {},
   "outputs": [],
   "source": []
  }
 ],
 "metadata": {
  "kernelspec": {
   "display_name": "Python 3",
   "language": "python",
   "name": "python3"
  },
  "language_info": {
   "codemirror_mode": {
    "name": "ipython",
    "version": 3
   },
   "file_extension": ".py",
   "mimetype": "text/x-python",
   "name": "python",
   "nbconvert_exporter": "python",
   "pygments_lexer": "ipython3",
   "version": "3.8.8"
  }
 },
 "nbformat": 4,
 "nbformat_minor": 5
}
