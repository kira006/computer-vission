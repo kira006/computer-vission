{
 "cells": [
  {
   "cell_type": "code",
   "execution_count": 1,
   "id": "7f83424c",
   "metadata": {},
   "outputs": [],
   "source": [
    "import cv2\n",
    "import numpy"
   ]
  },
  {
   "cell_type": "code",
   "execution_count": 2,
   "id": "b459531b",
   "metadata": {},
   "outputs": [],
   "source": [
    "photo1=cv2.imread(\"nike2.png\")"
   ]
  },
  {
   "cell_type": "code",
   "execution_count": 3,
   "id": "0aea4e2f",
   "metadata": {},
   "outputs": [],
   "source": [
    "photo2=cv2.imread(\"nike1.png\")"
   ]
  },
  {
   "cell_type": "code",
   "execution_count": 4,
   "id": "92b51e2f",
   "metadata": {},
   "outputs": [
    {
     "data": {
      "text/plain": [
       "(400, 400, 3)"
      ]
     },
     "execution_count": 4,
     "metadata": {},
     "output_type": "execute_result"
    }
   ],
   "source": [
    "photo2.shape"
   ]
  },
  {
   "cell_type": "code",
   "execution_count": 5,
   "id": "724aa1d6",
   "metadata": {},
   "outputs": [
    {
     "data": {
      "text/plain": [
       "(400, 400, 3)"
      ]
     },
     "execution_count": 5,
     "metadata": {},
     "output_type": "execute_result"
    }
   ],
   "source": [
    "photo1.shape"
   ]
  },
  {
   "cell_type": "code",
   "execution_count": 6,
   "id": "ff01abb3",
   "metadata": {},
   "outputs": [],
   "source": [
    "cv2.imshow(\"...\",photo1)\n",
    "cv2.waitKey()\n",
    "cv2.destroyAllWindows()"
   ]
  },
  {
   "cell_type": "code",
   "execution_count": 7,
   "id": "91a9adc1",
   "metadata": {},
   "outputs": [],
   "source": [
    "cv2.imshow(\"...\",photo2)\n",
    "cv2.waitKey()\n",
    "cv2.destroyAllWindows()"
   ]
  },
  {
   "cell_type": "code",
   "execution_count": 8,
   "id": "4511fd4d",
   "metadata": {},
   "outputs": [],
   "source": [
    "photo1[0:200,200:400]=photo2[0:200,200:400]"
   ]
  },
  {
   "cell_type": "code",
   "execution_count": 9,
   "id": "e4ced8fd",
   "metadata": {},
   "outputs": [],
   "source": [
    "cv2.imshow(\"...\",photo1)\n",
    "cv2.waitKey()\n",
    "cv2.destroyAllWindows()"
   ]
  },
  {
   "cell_type": "code",
   "execution_count": null,
   "id": "446976bc",
   "metadata": {},
   "outputs": [],
   "source": []
  }
 ],
 "metadata": {
  "kernelspec": {
   "display_name": "Python 3",
   "language": "python",
   "name": "python3"
  },
  "language_info": {
   "codemirror_mode": {
    "name": "ipython",
    "version": 3
   },
   "file_extension": ".py",
   "mimetype": "text/x-python",
   "name": "python",
   "nbconvert_exporter": "python",
   "pygments_lexer": "ipython3",
   "version": "3.8.8"
  }
 },
 "nbformat": 4,
 "nbformat_minor": 5
}
