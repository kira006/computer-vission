{
 "cells": [
  {
   "cell_type": "code",
   "execution_count": 1,
   "id": "ad481301",
   "metadata": {},
   "outputs": [],
   "source": [
    "import cv2"
   ]
  },
  {
   "cell_type": "code",
   "execution_count": 2,
   "id": "1e34e60d",
   "metadata": {},
   "outputs": [],
   "source": [
    "import numpy"
   ]
  },
  {
   "cell_type": "code",
   "execution_count": 3,
   "id": "97a984b6",
   "metadata": {},
   "outputs": [],
   "source": [
    "picture=numpy.zeros([400,800,3])"
   ]
  },
  {
   "cell_type": "code",
   "execution_count": 4,
   "id": "61570489",
   "metadata": {},
   "outputs": [],
   "source": [
    "picture[:,:]=[0,255,0]\n",
    "picture[0:5,0:800]=[255,255,255]\n",
    "picture[0:400,0:5]=[255,255,255]\n",
    "picture[0:400,795:800]=[255,255,255]\n",
    "picture[395:400,0:800]=[255,255,255]\n",
    "# goalpost \n",
    "picture[135:140,0:50]=[255,255,255]\n",
    "picture[260:265,0:50]=[255,255,255]\n",
    "picture[135:265,50:55]=[255,255,255]"
   ]
  },
  {
   "cell_type": "code",
   "execution_count": 5,
   "id": "090a6838",
   "metadata": {},
   "outputs": [],
   "source": [
    "picture[135:140,750:800]=[255,255,255]\n",
    "picture[260:265,750:800]=[255,255,255]\n",
    "picture[135:265,745:750]=[255,255,255]"
   ]
  },
  {
   "cell_type": "code",
   "execution_count": 6,
   "id": "07e9b689",
   "metadata": {},
   "outputs": [],
   "source": [
    "picture[:,398:402]=[255,255,255]"
   ]
  },
  {
   "cell_type": "code",
   "execution_count": 7,
   "id": "7f8f8648",
   "metadata": {},
   "outputs": [],
   "source": [
    "center_coordinates = (400,200)\n",
    "radius = 30\n",
    "color = (255,255,255)\n",
    "thickness = 2\n",
    "picture = cv2.circle( picture,center_coordinates, radius, color, thickness)"
   ]
  },
  {
   "cell_type": "code",
   "execution_count": 8,
   "id": "1617963f",
   "metadata": {},
   "outputs": [],
   "source": [
    "# D\n",
    "picture[90:95,0:130]=[255,255,255]\n",
    "picture[305:310,0:130]=[255,255,255]\n",
    "picture[90:310,130:135]=[255,255,255]"
   ]
  },
  {
   "cell_type": "code",
   "execution_count": 9,
   "id": "934a80d3",
   "metadata": {},
   "outputs": [],
   "source": [
    "picture[90:95,670:800]=[255,255,255]\n",
    "picture[305:310,670:800]=[255,255,255]\n",
    "picture[90:310,665:670]=[255,255,255]"
   ]
  },
  {
   "cell_type": "code",
   "execution_count": 10,
   "id": "b5206f3e",
   "metadata": {},
   "outputs": [],
   "source": [
    "picture[198:202,88:92]=[255,255,255]\n",
    "picture[198:202,708:712]=[255,255,255]"
   ]
  },
  {
   "cell_type": "code",
   "execution_count": 11,
   "id": "88e35151",
   "metadata": {},
   "outputs": [],
   "source": [
    "picture[0:15,0:15]=[255,255,255]\n",
    "picture[385:400,0:15]=[255,255,255]\n",
    "picture[0:15,785:800]=[255,255,255]\n",
    "picture[385:400,785:800]=[255,255,255]"
   ]
  },
  {
   "cell_type": "code",
   "execution_count": 12,
   "id": "6e3df854",
   "metadata": {},
   "outputs": [],
   "source": [
    "cv2.imshow(\"hello\",picture)\n",
    "cv2.waitKey()\n",
    "cv2.destroyAllWindows()"
   ]
  },
  {
   "cell_type": "code",
   "execution_count": null,
   "id": "72c7d352",
   "metadata": {},
   "outputs": [],
   "source": []
  }
 ],
 "metadata": {
  "kernelspec": {
   "display_name": "Python 3",
   "language": "python",
   "name": "python3"
  },
  "language_info": {
   "codemirror_mode": {
    "name": "ipython",
    "version": 3
   },
   "file_extension": ".py",
   "mimetype": "text/x-python",
   "name": "python",
   "nbconvert_exporter": "python",
   "pygments_lexer": "ipython3",
   "version": "3.8.8"
  }
 },
 "nbformat": 4,
 "nbformat_minor": 5
}
